{
  "nbformat": 4,
  "nbformat_minor": 0,
  "metadata": {
    "colab": {
      "name": "LSTM-on-1-Stock-v1.ipynb",
      "provenance": [],
      "collapsed_sections": [
        "GDDAgaVnqJR7",
        "ElQpsXHrXZj0"
      ],
      "mount_file_id": "1ZAmkXnbj7w2YLdrRd-725Wl7lt8B0qNN",
      "authorship_tag": "ABX9TyNjIFng+kMDogY3jvRO6a2m",
      "include_colab_link": true
    },
    "kernelspec": {
      "name": "python3",
      "display_name": "Python 3"
    },
    "language_info": {
      "name": "python"
    }
  },
  "cells": [
    {
      "cell_type": "markdown",
      "metadata": {
        "id": "view-in-github",
        "colab_type": "text"
      },
      "source": [
        "<a href=\"https://colab.research.google.com/github/joapen/ML-Learning-bucket/blob/main/LSTM_on_1_Stock_v1.ipynb\" target=\"_parent\"><img src=\"https://colab.research.google.com/assets/colab-badge.svg\" alt=\"Open In Colab\"/></a>"
      ]
    },
    {
      "cell_type": "markdown",
      "source": [
        "# Purpose of Code = We normalize the data and apply LSTM (Long-Short Term Memory neural network)"
      ],
      "metadata": {
        "id": "XcTnn8jTwSsv"
      }
    },
    {
      "cell_type": "markdown",
      "source": [
        "\n",
        "1.- Load libraries common data and functions\n",
        "2.- Preparing the data for LSTM\n",
        "3.- Split Train/Test dataset & dimension the data vectors\n",
        "4.- Creating the LSTM model\n",
        "5.- Build prediction on test dataset\n",
        "6.- Predict the stock price for tomorrow\n",
        "10.- Analysis: Generate and save data to analyze results\n",
        "20.- Generate Next day result\n",
        "\n",
        "One property used: close price.\n",
        "\n",
        "Source = https://thinkingneuron.com/predicting-stock-prices-using-deep-learning-lstm-model-in-python/"
      ],
      "metadata": {
        "id": "KVSYtXnoTCAy"
      }
    },
    {
      "cell_type": "markdown",
      "source": [
        "### 1.- Load Libraries"
      ],
      "metadata": {
        "id": "LcPIEiuyR-lz"
      }
    },
    {
      "cell_type": "code",
      "metadata": {
        "colab": {
          "base_uri": "https://localhost:8080/"
        },
        "id": "jj0blVuuktKi",
        "outputId": "ef1016a9-8ee9-48c9-d668-12f2d5000102"
      },
      "source": [
        "#### libraries ###\n",
        "## -> Always\n",
        "\n",
        "import numpy as np # linear algebra\n",
        "import pandas as pd # data processing, CSV file I/O (e.g. pd.read_csv)\n",
        "import pickle # to save in disk the model and recuperate it\n",
        "\n",
        "import matplotlib.pyplot as plt\n",
        "import seaborn as sns\n",
        "sns.set_style('whitegrid')\n",
        "plt.style.use(\"fivethirtyeight\")\n",
        "%matplotlib inline\n",
        "\n",
        "print(\"Setup Complete\")"
      ],
      "execution_count": 5,
      "outputs": [
        {
          "output_type": "stream",
          "name": "stdout",
          "text": [
            "Setup Complete\n"
          ]
        }
      ]
    },
    {
      "cell_type": "markdown",
      "metadata": {
        "id": "Wyfd9l9o-Cuo"
      },
      "source": [
        "## 1.- Load common data and functions"
      ]
    },
    {
      "cell_type": "code",
      "source": [
        "## -> Functions (Always)\n",
        "\n",
        "def buildLastDaysArray(input_array, data_scaler, nSamples,timeSteps, nFeatures):\n",
        "  # Last X days prices where X = time_step\n",
        "  LastXDays=np.array(input_array)\n",
        "\n",
        "  # Normalizing the data just like we did for training the model\n",
        "  LastXDays=data_scaler.transform(LastXDays.reshape(-1,1))\n",
        "\n",
        "  # Changing the shape of the data to 3D\n",
        "  LastXDays=LastXDays.reshape(nSamples,timeSteps,nFeatures)\n",
        "  return LastXDays\n",
        "\n",
        "def initiateDataLoad(sTicker):\n",
        "  query_string = f'https://query1.finance.yahoo.com/v7/finance/download/{sTicker}?period1={period1}&period2={period2}&interval={interval}&events=history&includeAdjustedClose=true'\n",
        "  StockData = pd.read_csv(query_string)\n",
        "  StockData.Date = pd.to_datetime(StockData['Date'],format='%Y/%m/%d')\n",
        "  StockData.set_index('Date')\n",
        "\n",
        "  ## Prepare data\n",
        "  # Extracting the closing prices of each day\n",
        "  FullData=StockData[['Close']].values\n",
        "\n",
        "  DataScaler = initiateDataScaler(FullData)\n",
        "  X=DataScaler.transform(FullData)\n",
        "  #X=FullData\n",
        "  \n",
        "  # Creating a column as date\n",
        "  StockData['TradeDate']=StockData.Date\n",
        "\n",
        "  return FullData, StockData, DataScaler, X\n",
        "\n",
        "def initiateDataScaler(inputData):\n",
        "  # Feature Scaling for fast training of neural networks\n",
        "  from sklearn.preprocessing import StandardScaler, MinMaxScaler\n",
        " \n",
        "  # Choosing between Standardization or normalization\n",
        "  #sc = StandardScaler()\n",
        "  sc = MinMaxScaler()\n",
        "  \n",
        "  DataScaler = sc.fit(inputData)\n",
        "  return DataScaler\n",
        " "
      ],
      "metadata": {
        "id": "Exsp-HXky-2k"
      },
      "execution_count": 6,
      "outputs": []
    },
    {
      "cell_type": "code",
      "metadata": {
        "colab": {
          "base_uri": "https://localhost:8080/"
        },
        "id": "VJjfeEO8o2Sn",
        "outputId": "209d0557-9ea9-486d-9a09-f03d426c1ebd"
      },
      "source": [
        "###   Load market data from yahoo    ###\n",
        "## -> Always\n",
        "## -> change =  date and ticker\n",
        "import time\n",
        "import datetime\n",
        "import pandas as pd\n",
        "###  Project Definition  ###\n",
        "PROJECT_ID = 'Predicting stock prices of an individual Stock using Long-Short Term Model (LSTM)'\n",
        "#####################################\n",
        "### Parameters to be changed here ###\n",
        "interval = '1d'\n",
        "period1 = int(time.mktime(datetime.datetime(1986, 3, 12, 23, 59).timetuple()))    # start date for the stock\n",
        "period2 = int(time.mktime(datetime.datetime(2022, 2, 1, 23, 59).timetuple()))   # last day of the stock\n",
        "tickers = ['MSFT', 'GOOG', 'AAPL', 'FB'] # list of tickers to be considered\n",
        "ticker = \"MSFT\" # the stock used for modelling\n",
        "\n",
        "sURL = \"/content/drive/MyDrive/public/DREAM/\"  # Route for saved model\n",
        "filename = 'LSTM-on-'+ticker+'-v1-model.sav'   # Filename for saved the model\n",
        "saveModelLocation = sURL+filename              # file location for saved model\n",
        "\n",
        "NumSamples=1      # number of samples, initially 1\n",
        "TimeSteps=10      # initially 10 days\n",
        "NumFeatures=1     # nFeatures used in the X array\n",
        "#####################################\n",
        "\n",
        "FullData, StockData, DataScaler, X = initiateDataLoad(ticker)\n",
        "\n",
        "print(\"Setup Complete\")"
      ],
      "execution_count": 7,
      "outputs": [
        {
          "output_type": "stream",
          "name": "stdout",
          "text": [
            "Setup Complete\n"
          ]
        }
      ]
    },
    {
      "cell_type": "code",
      "source": [
        "## Optional, Plotting the stock prices\n",
        "%matplotlib inline\n",
        "StockData.plot(x='TradeDate', y='Close', kind='line', figsize=(20,6), rot=20)"
      ],
      "metadata": {
        "id": "4UYqI-kQaRoL"
      },
      "execution_count": null,
      "outputs": []
    },
    {
      "cell_type": "markdown",
      "source": [
        "## 2.- Preparing the data for LSTM"
      ],
      "metadata": {
        "id": "GDDAgaVnqJR7"
      }
    },
    {
      "cell_type": "code",
      "source": [
        "## -> To model\n",
        "\n",
        "### 2.1 split into samples ###\n",
        "\n",
        "X_samples = list()\n",
        "y_samples = list()\n",
        " \n",
        "NumerOfRows = len(X)\n",
        "TimeSteps=10  # next day's Price Prediction is based on last how many past day's prices\n",
        " \n",
        "# Iterate thru the values to create combinations\n",
        "for i in range(TimeSteps , NumerOfRows , 1):\n",
        "    x_sample = X[i-TimeSteps:i]\n",
        "    y_sample = X[i]\n",
        "    X_samples.append(x_sample)\n",
        "    y_samples.append(y_sample)\n",
        " \n",
        "################################################\n",
        "# 2.2 Reshape the Input as a 3D (number of samples, Time Steps, Features)\n",
        "X_data=np.array(X_samples)\n",
        "X_data=X_data.reshape(X_data.shape[0],X_data.shape[1], 1)\n",
        "print('Input Data shape = ' + str(X_data.shape))\n",
        "# We do not reshape y as a 3D data  as it is supposed to be a single column only\n",
        "y_data=np.array(y_samples)\n",
        "y_data=y_data.reshape(y_data.shape[0], 1)\n",
        "print('Output Data shape = ' + str(y_data.shape))"
      ],
      "metadata": {
        "colab": {
          "base_uri": "https://localhost:8080/"
        },
        "id": "ZX_znxcnp39x",
        "outputId": "fb25c4fa-2bb3-48d8-9e59-10d83e8f2184"
      },
      "execution_count": 10,
      "outputs": [
        {
          "output_type": "stream",
          "name": "stdout",
          "text": [
            "Input Data shape = (9037, 10, 1)\n",
            "Output Data shape = (9037, 1)\n"
          ]
        }
      ]
    },
    {
      "cell_type": "markdown",
      "metadata": {
        "id": "ElQpsXHrXZj0"
      },
      "source": [
        "## 3.- Split Train/Test dataset & dimension the data vectors"
      ]
    },
    {
      "cell_type": "code",
      "metadata": {
        "colab": {
          "base_uri": "https://localhost:8080/"
        },
        "id": "JBg80uWxSSkx",
        "outputId": "b488af7e-de92-46c7-b864-e895c556ed3e"
      },
      "source": [
        "## -> To model\n",
        "\n",
        "# Choosing the number of testing data records\n",
        "\n",
        "TestingRecords=5\n",
        "\n",
        "# Splitting the data into train and test\n",
        "X_train=X_data[:-TestingRecords]\n",
        "X_test=X_data[-TestingRecords:]\n",
        "y_train=y_data[:-TestingRecords]\n",
        "y_test=y_data[-TestingRecords:]\n",
        "\n",
        "# Printing the shape of training and testing\n",
        "print('\\n#### Training Data shape ####')\n",
        "print(X_train.shape)\n",
        "print(y_train.shape)\n",
        "print('\\n#### Testing Data shape ####')\n",
        "print(X_test.shape)\n",
        "print(y_test.shape)"
      ],
      "execution_count": 11,
      "outputs": [
        {
          "output_type": "stream",
          "name": "stdout",
          "text": [
            "\n",
            "#### Training Data shape ####\n",
            "(9032, 10, 1)\n",
            "(9032, 1)\n",
            "\n",
            "#### Testing Data shape ####\n",
            "(5, 10, 1)\n",
            "(5, 1)\n"
          ]
        }
      ]
    },
    {
      "cell_type": "code",
      "source": [
        "## Optional = Visualizing the input and output data for LSTM\n",
        "\n",
        "# Visualizing the input and output being sent to the LSTM model\n",
        "for inp, out in zip(X_train[0:2], y_train[0:2]):\n",
        "    print(inp,'--', out)"
      ],
      "metadata": {
        "id": "Ovw4cYi7qijb",
        "colab": {
          "base_uri": "https://localhost:8080/"
        },
        "outputId": "0b76450b-628c-4df5-f788-ec57bf84ee3e"
      },
      "execution_count": null,
      "outputs": [
        {
          "output_type": "stream",
          "name": "stdout",
          "text": [
            "[[2.02437349e-05]\n",
            " [3.03656023e-05]\n",
            " [3.54294513e-05]\n",
            " [2.78351354e-05]\n",
            " [2.27742017e-05]\n",
            " [1.51828011e-05]\n",
            " [7.59140057e-06]\n",
            " [0.00000000e+00]\n",
            " [5.06093371e-06]\n",
            " [1.26523343e-05]] -- [1.7713268e-05]\n",
            "[[3.03656023e-05]\n",
            " [3.54294513e-05]\n",
            " [2.78351354e-05]\n",
            " [2.27742017e-05]\n",
            " [1.51828011e-05]\n",
            " [7.59140057e-06]\n",
            " [0.00000000e+00]\n",
            " [5.06093371e-06]\n",
            " [1.26523343e-05]\n",
            " [1.77132680e-05]] -- [1.51828011e-05]\n"
          ]
        }
      ]
    },
    {
      "cell_type": "markdown",
      "metadata": {
        "id": "VleAphg1kmv_"
      },
      "source": [
        "## 4.- Creating the LSTM model\n"
      ]
    },
    {
      "cell_type": "markdown",
      "source": [
        "This time I'm going to use LSTM neural network.\n",
        "* https://en.wikipedia.org/wiki/Long_short-term_memory\n",
        "* https://pytorch.org/tutorials/beginner/nlp/sequence_models_tutorial.html\n",
        "\n",
        "Notes:\n",
        "* Pytorch’s LSTM expects all of its inputs to be 3D tensors.\n",
        "* The semantics of the axes of these tensors is important.\n",
        "* The first axis is the sequence itself,\n",
        "* The second indexes instances in the mini-batch,\n",
        "* The third indexes elements of the input.\n",
        "* Let's ignore 2º axis (mini-batching), we will always have just 1D."
      ],
      "metadata": {
        "id": "kGXrOSbRTRNV"
      }
    },
    {
      "cell_type": "code",
      "metadata": {
        "colab": {
          "base_uri": "https://localhost:8080/"
        },
        "id": "q12kIcNHSVq_",
        "outputId": "70ba3905-5a09-43e7-91d5-c79cfac817e4"
      },
      "source": [
        "## -> To model\n",
        "\n",
        "###################################\n",
        "###   1 hour step!!!!!!!! when epochs = 100\n",
        "###################################\n",
        "\n",
        "# 4.1 Defining Input shapes for LSTM\n",
        "TimeSteps=X_train.shape[1]\n",
        "TotalFeatures=X_train.shape[2]\n",
        "print(\"Number of TimeSteps:\", TimeSteps)\n",
        "print(\"Number of Features:\", TotalFeatures)\n",
        "# 4.2 Importing the Keras libraries and packages\n",
        "from keras.models import Sequential\n",
        "from keras.layers import Dense\n",
        "from keras.layers import LSTM\n",
        "\n",
        "# Initialising the RNN\n",
        "regressor = Sequential()\n",
        " \n",
        "# Adding the First input hidden layer and the LSTM layer\n",
        "# return_sequences = True, means the output of every time step to be shared with hidden next layer\n",
        "regressor.add(LSTM(units = 10, activation = 'tanh', input_shape = (TimeSteps, TotalFeatures), return_sequences=True))\n",
        " \n",
        "# Adding the Second Second hidden layer and the LSTM layer\n",
        "regressor.add(LSTM(units = 5, activation = 'tanh', input_shape = (TimeSteps, TotalFeatures), return_sequences=True))\n",
        " \n",
        "# Adding the Second Third hidden layer and the LSTM layer\n",
        "regressor.add(LSTM(units = 5, activation = 'tanh', return_sequences=False ))\n",
        "\n",
        "# Adding the output layer\n",
        "regressor.add(Dense(units = 1))\n",
        " \n",
        "# Compiling the RNN\n",
        "regressor.compile(optimizer = 'adam', loss = 'mean_squared_error')\n",
        "\n",
        "##################################################\n",
        "import time\n",
        "# Measuring the time taken by the model to train\n",
        "StartTime=time.time()\n",
        "# Fitting the RNN to the Training set\n",
        "regressor.fit(X_train, y_train, batch_size = 5, epochs = 100)\n",
        " \n",
        "EndTime=time.time()\n",
        "print(\"## Total Time Taken: \", round((EndTime-StartTime)/60), 'Minutes ##')"
      ],
      "execution_count": 12,
      "outputs": [
        {
          "output_type": "stream",
          "name": "stdout",
          "text": [
            "Number of TimeSteps: 10\n",
            "Number of Features: 1\n",
            "Epoch 1/100\n",
            "1807/1807 [==============================] - 35s 16ms/step - loss: 0.0013\n",
            "Epoch 2/100\n",
            "1807/1807 [==============================] - 25s 14ms/step - loss: 1.2373e-04\n",
            "Epoch 3/100\n",
            "1807/1807 [==============================] - 26s 14ms/step - loss: 1.0116e-04\n",
            "Epoch 4/100\n",
            "1807/1807 [==============================] - 25s 14ms/step - loss: 1.0831e-04\n",
            "Epoch 5/100\n",
            "1807/1807 [==============================] - 26s 14ms/step - loss: 9.3306e-05\n",
            "Epoch 6/100\n",
            "1807/1807 [==============================] - 25s 14ms/step - loss: 1.0365e-04\n",
            "Epoch 7/100\n",
            "1807/1807 [==============================] - 25s 14ms/step - loss: 8.8947e-05\n",
            "Epoch 8/100\n",
            "1807/1807 [==============================] - 25s 14ms/step - loss: 9.0281e-05\n",
            "Epoch 9/100\n",
            "1807/1807 [==============================] - 25s 14ms/step - loss: 8.3123e-05\n",
            "Epoch 10/100\n",
            "1807/1807 [==============================] - 25s 14ms/step - loss: 9.2724e-05\n",
            "Epoch 11/100\n",
            "1807/1807 [==============================] - 25s 14ms/step - loss: 8.0753e-05\n",
            "Epoch 12/100\n",
            "1807/1807 [==============================] - 25s 14ms/step - loss: 7.6978e-05\n",
            "Epoch 13/100\n",
            "1807/1807 [==============================] - 25s 14ms/step - loss: 7.2998e-05\n",
            "Epoch 14/100\n",
            "1807/1807 [==============================] - 24s 13ms/step - loss: 6.6511e-05\n",
            "Epoch 15/100\n",
            "1807/1807 [==============================] - 25s 14ms/step - loss: 7.0153e-05\n",
            "Epoch 16/100\n",
            "1807/1807 [==============================] - 25s 14ms/step - loss: 6.7208e-05\n",
            "Epoch 17/100\n",
            "1807/1807 [==============================] - 25s 14ms/step - loss: 6.0876e-05\n",
            "Epoch 18/100\n",
            "1807/1807 [==============================] - 26s 14ms/step - loss: 5.9260e-05\n",
            "Epoch 19/100\n",
            "1807/1807 [==============================] - 25s 14ms/step - loss: 5.6280e-05\n",
            "Epoch 20/100\n",
            "1807/1807 [==============================] - 26s 14ms/step - loss: 5.1577e-05\n",
            "Epoch 21/100\n",
            "1807/1807 [==============================] - 25s 14ms/step - loss: 5.2448e-05\n",
            "Epoch 22/100\n",
            "1807/1807 [==============================] - 26s 14ms/step - loss: 4.4863e-05\n",
            "Epoch 23/100\n",
            "1807/1807 [==============================] - 26s 14ms/step - loss: 4.1257e-05\n",
            "Epoch 24/100\n",
            "1807/1807 [==============================] - 27s 15ms/step - loss: 4.1905e-05\n",
            "Epoch 25/100\n",
            "1807/1807 [==============================] - 27s 15ms/step - loss: 3.6310e-05\n",
            "Epoch 26/100\n",
            "1807/1807 [==============================] - 25s 14ms/step - loss: 3.7258e-05\n",
            "Epoch 27/100\n",
            "1807/1807 [==============================] - 25s 14ms/step - loss: 3.5407e-05\n",
            "Epoch 28/100\n",
            "1807/1807 [==============================] - 25s 14ms/step - loss: 3.1131e-05\n",
            "Epoch 29/100\n",
            "1807/1807 [==============================] - 26s 14ms/step - loss: 3.0845e-05\n",
            "Epoch 30/100\n",
            "1807/1807 [==============================] - 25s 14ms/step - loss: 3.1579e-05\n",
            "Epoch 31/100\n",
            "1807/1807 [==============================] - 26s 14ms/step - loss: 3.0008e-05\n",
            "Epoch 32/100\n",
            "1807/1807 [==============================] - 26s 14ms/step - loss: 3.0284e-05\n",
            "Epoch 33/100\n",
            "1807/1807 [==============================] - 25s 14ms/step - loss: 2.7761e-05\n",
            "Epoch 34/100\n",
            "1807/1807 [==============================] - 26s 14ms/step - loss: 2.7247e-05\n",
            "Epoch 35/100\n",
            "1807/1807 [==============================] - 26s 14ms/step - loss: 3.2770e-05\n",
            "Epoch 36/100\n",
            "1807/1807 [==============================] - 26s 15ms/step - loss: 2.7504e-05\n",
            "Epoch 37/100\n",
            "1807/1807 [==============================] - 26s 14ms/step - loss: 2.6019e-05\n",
            "Epoch 38/100\n",
            "1807/1807 [==============================] - 26s 14ms/step - loss: 2.7175e-05\n",
            "Epoch 39/100\n",
            "1807/1807 [==============================] - 26s 15ms/step - loss: 2.6530e-05\n",
            "Epoch 40/100\n",
            "1807/1807 [==============================] - 26s 14ms/step - loss: 2.5587e-05\n",
            "Epoch 41/100\n",
            "1807/1807 [==============================] - 26s 14ms/step - loss: 2.7590e-05\n",
            "Epoch 42/100\n",
            "1807/1807 [==============================] - 26s 14ms/step - loss: 2.3604e-05\n",
            "Epoch 43/100\n",
            "1807/1807 [==============================] - 26s 14ms/step - loss: 3.2927e-05\n",
            "Epoch 44/100\n",
            "1807/1807 [==============================] - 26s 15ms/step - loss: 2.4332e-05\n",
            "Epoch 45/100\n",
            "1807/1807 [==============================] - 26s 14ms/step - loss: 2.4185e-05\n",
            "Epoch 46/100\n",
            "1807/1807 [==============================] - 26s 14ms/step - loss: 2.4474e-05\n",
            "Epoch 47/100\n",
            "1807/1807 [==============================] - 25s 14ms/step - loss: 2.6102e-05\n",
            "Epoch 48/100\n",
            "1807/1807 [==============================] - 25s 14ms/step - loss: 2.4937e-05\n",
            "Epoch 49/100\n",
            "1807/1807 [==============================] - 27s 15ms/step - loss: 2.2542e-05\n",
            "Epoch 50/100\n",
            "1807/1807 [==============================] - 25s 14ms/step - loss: 2.5216e-05\n",
            "Epoch 51/100\n",
            "1807/1807 [==============================] - 25s 14ms/step - loss: 2.5028e-05\n",
            "Epoch 52/100\n",
            "1807/1807 [==============================] - 25s 14ms/step - loss: 2.4152e-05\n",
            "Epoch 53/100\n",
            "1807/1807 [==============================] - 25s 14ms/step - loss: 2.6807e-05\n",
            "Epoch 54/100\n",
            "1807/1807 [==============================] - 26s 14ms/step - loss: 2.4066e-05\n",
            "Epoch 55/100\n",
            "1807/1807 [==============================] - 26s 14ms/step - loss: 2.6899e-05\n",
            "Epoch 56/100\n",
            "1807/1807 [==============================] - 25s 14ms/step - loss: 2.5569e-05\n",
            "Epoch 57/100\n",
            "1807/1807 [==============================] - 26s 14ms/step - loss: 2.3185e-05\n",
            "Epoch 58/100\n",
            "1807/1807 [==============================] - 26s 14ms/step - loss: 2.3934e-05\n",
            "Epoch 59/100\n",
            "1807/1807 [==============================] - 25s 14ms/step - loss: 2.4171e-05\n",
            "Epoch 60/100\n",
            "1807/1807 [==============================] - 26s 14ms/step - loss: 2.2372e-05\n",
            "Epoch 61/100\n",
            "1807/1807 [==============================] - 26s 14ms/step - loss: 2.2976e-05\n",
            "Epoch 62/100\n",
            "1807/1807 [==============================] - 25s 14ms/step - loss: 2.3399e-05\n",
            "Epoch 63/100\n",
            "1807/1807 [==============================] - 27s 15ms/step - loss: 2.1267e-05\n",
            "Epoch 64/100\n",
            "1807/1807 [==============================] - 28s 15ms/step - loss: 2.4510e-05\n",
            "Epoch 65/100\n",
            "1807/1807 [==============================] - 26s 15ms/step - loss: 2.2693e-05\n",
            "Epoch 66/100\n",
            "1807/1807 [==============================] - 26s 14ms/step - loss: 2.4079e-05\n",
            "Epoch 67/100\n",
            "1807/1807 [==============================] - 26s 14ms/step - loss: 2.2693e-05\n",
            "Epoch 68/100\n",
            "1807/1807 [==============================] - 25s 14ms/step - loss: 2.2699e-05\n",
            "Epoch 69/100\n",
            "1807/1807 [==============================] - 26s 14ms/step - loss: 2.3716e-05\n",
            "Epoch 70/100\n",
            "1807/1807 [==============================] - 26s 14ms/step - loss: 2.2925e-05\n",
            "Epoch 71/100\n",
            "1807/1807 [==============================] - 25s 14ms/step - loss: 2.1278e-05\n",
            "Epoch 72/100\n",
            "1807/1807 [==============================] - 24s 13ms/step - loss: 2.0994e-05\n",
            "Epoch 73/100\n",
            "1807/1807 [==============================] - 26s 15ms/step - loss: 2.2784e-05\n",
            "Epoch 74/100\n",
            "1807/1807 [==============================] - 26s 14ms/step - loss: 2.1981e-05\n",
            "Epoch 75/100\n",
            "1807/1807 [==============================] - 25s 14ms/step - loss: 2.2737e-05\n",
            "Epoch 76/100\n",
            "1807/1807 [==============================] - 26s 15ms/step - loss: 2.0975e-05\n",
            "Epoch 77/100\n",
            "1807/1807 [==============================] - 26s 14ms/step - loss: 2.1817e-05\n",
            "Epoch 78/100\n",
            "1807/1807 [==============================] - 25s 14ms/step - loss: 2.0943e-05\n",
            "Epoch 79/100\n",
            "1807/1807 [==============================] - 26s 14ms/step - loss: 1.9808e-05\n",
            "Epoch 80/100\n",
            "1807/1807 [==============================] - 25s 14ms/step - loss: 2.0382e-05\n",
            "Epoch 81/100\n",
            "1807/1807 [==============================] - 26s 14ms/step - loss: 2.1377e-05\n",
            "Epoch 82/100\n",
            "1807/1807 [==============================] - 26s 14ms/step - loss: 1.9753e-05\n",
            "Epoch 83/100\n",
            "1807/1807 [==============================] - 26s 14ms/step - loss: 2.1744e-05\n",
            "Epoch 84/100\n",
            "1807/1807 [==============================] - 26s 14ms/step - loss: 2.0105e-05\n",
            "Epoch 85/100\n",
            "1807/1807 [==============================] - 26s 14ms/step - loss: 2.2704e-05\n",
            "Epoch 86/100\n",
            "1807/1807 [==============================] - 26s 14ms/step - loss: 2.1068e-05\n",
            "Epoch 87/100\n",
            "1807/1807 [==============================] - 25s 14ms/step - loss: 2.2105e-05\n",
            "Epoch 88/100\n",
            "1807/1807 [==============================] - 27s 15ms/step - loss: 2.0187e-05\n",
            "Epoch 89/100\n",
            "1807/1807 [==============================] - 26s 14ms/step - loss: 1.9813e-05\n",
            "Epoch 90/100\n",
            "1807/1807 [==============================] - 26s 14ms/step - loss: 2.0495e-05\n",
            "Epoch 91/100\n",
            "1807/1807 [==============================] - 25s 14ms/step - loss: 2.0822e-05\n",
            "Epoch 92/100\n",
            "1807/1807 [==============================] - 25s 14ms/step - loss: 2.1249e-05\n",
            "Epoch 93/100\n",
            "1807/1807 [==============================] - 25s 14ms/step - loss: 1.9830e-05\n",
            "Epoch 94/100\n",
            "1807/1807 [==============================] - 25s 14ms/step - loss: 1.9484e-05\n",
            "Epoch 95/100\n",
            "1807/1807 [==============================] - 26s 14ms/step - loss: 2.0964e-05\n",
            "Epoch 96/100\n",
            "1807/1807 [==============================] - 25s 14ms/step - loss: 1.9876e-05\n",
            "Epoch 97/100\n",
            "1807/1807 [==============================] - 26s 14ms/step - loss: 1.9892e-05\n",
            "Epoch 98/100\n",
            "1807/1807 [==============================] - 26s 14ms/step - loss: 2.0264e-05\n",
            "Epoch 99/100\n",
            "1807/1807 [==============================] - 26s 14ms/step - loss: 2.0771e-05\n",
            "Epoch 100/100\n",
            "1807/1807 [==============================] - 26s 14ms/step - loss: 1.8808e-05\n",
            "## Total Time Taken:  43 Minutes ##\n"
          ]
        }
      ]
    },
    {
      "cell_type": "markdown",
      "metadata": {
        "id": "_ToWfqrPX7dd"
      },
      "source": [
        "## 5.- Build prediction on test dataset"
      ]
    },
    {
      "cell_type": "code",
      "metadata": {
        "id": "PYbzZUuYYC9G",
        "colab": {
          "base_uri": "https://localhost:8080/"
        },
        "outputId": "a24d89f9-c79c-4d74-d63e-a250829730e2"
      },
      "source": [
        "## -> To model\n",
        "\n",
        "# 5.1 Making predictions on test data\n",
        "predicted_Price = regressor.predict(X_test)\n",
        "predicted_Price = DataScaler.inverse_transform(predicted_Price)\n",
        "\n",
        "# Getting the original price values for testing data\n",
        "orig=y_test\n",
        "orig=DataScaler.inverse_transform(y_test)\n",
        "\n",
        "# Accuracy of the predictions\n",
        "print('Accuracy:', 100 - (100*(abs(orig-predicted_Price)/orig)).mean())"
      ],
      "execution_count": 13,
      "outputs": [
        {
          "output_type": "stream",
          "name": "stdout",
          "text": [
            "Accuracy: 98.88557812895812\n"
          ]
        }
      ]
    },
    {
      "cell_type": "code",
      "metadata": {
        "id": "1gVmSIB6yZ8Z"
      },
      "source": [
        "## -> To model\n",
        "\n",
        "###  5.3 Generating predictions on full data\n",
        "\n",
        "TrainPredictions=DataScaler.inverse_transform(regressor.predict(X_train))\n",
        "TestPredictions=DataScaler.inverse_transform(regressor.predict(X_test))\n",
        " \n",
        "FullDataPredictions=np.append(TrainPredictions, TestPredictions)\n",
        "FullDataOrig=FullData[TimeSteps:]"
      ],
      "execution_count": 14,
      "outputs": []
    },
    {
      "cell_type": "code",
      "source": [
        "# 5.2 Optional: Visualising the results\n",
        "import matplotlib.pyplot as plt\n",
        "\n",
        "plt.plot(predicted_Price, color = 'blue', label = 'Predicted Volume')\n",
        "plt.plot(orig, color = 'lightblue', label = 'Original Volume')\n",
        "\n",
        "plt.title('Stock Price Predictions')\n",
        "plt.xlabel('Trading Date')\n",
        "plt.xticks(range(TestingRecords), StockData.tail(TestingRecords)['TradeDate'])\n",
        "plt.ylabel('Stock Price')\n",
        "\n",
        "plt.legend()\n",
        "fig=plt.gcf()\n",
        "fig.set_figwidth(20)\n",
        "fig.set_figheight(6)\n",
        "plt.show()"
      ],
      "metadata": {
        "id": "5CHhbykdXOiu",
        "colab": {
          "base_uri": "https://localhost:8080/",
          "height": 361
        },
        "outputId": "46b829a8-a5dd-4c93-a8bb-a9562bc9fb44"
      },
      "execution_count": 15,
      "outputs": [
        {
          "output_type": "display_data",
          "data": {
            "image/png": "[encoded data removed]",
            "text/plain": [
              "<Figure size 1440x432 with 1 Axes>"
            ]
          },
          "metadata": {
            "needs_background": "light"
          }
        }
      ]
    },
    {
      "cell_type": "code",
      "source": [
        "# 5.4 plotting the full data\n",
        "plt.plot_date(StockData.Date[TimeSteps:], FullDataPredictions, color = 'blue', label = 'Predicted Price')\n",
        "plt.plot_date(StockData.Date[TimeSteps:], FullDataOrig , color = 'lightblue', label = 'Original Price')\n",
        "\n",
        "plt.title('Stock Price Predictions')\n",
        "plt.xlabel('Trading Date')\n",
        "plt.ylabel('Stock Price')\n",
        "plt.legend()\n",
        "fig=plt.gcf()\n",
        "fig.set_figwidth(20)\n",
        "fig.set_figheight(8)\n",
        "plt.show()"
      ],
      "metadata": {
        "id": "GKIIlQYtXbf9",
        "colab": {
          "base_uri": "https://localhost:8080/",
          "height": 457
        },
        "outputId": "87c9581f-51ae-4585-bd45-49bf7b01b2df"
      },
      "execution_count": 16,
      "outputs": [
        {
          "output_type": "display_data",
          "data": {
            "image/png": "[encoded data removed]",
            "text/plain": [
              "<Figure size 1440x576 with 1 Axes>"
            ]
          },
          "metadata": {
            "needs_background": "light"
          }
        }
      ]
    },
    {
      "cell_type": "markdown",
      "source": [
        "## 6.- Predict the stock price for tomorrow"
      ],
      "metadata": {
        "id": "RCUxeE_ny6yU"
      }
    },
    {
      "cell_type": "code",
      "source": [
        "## Model\n",
        "## When = predict next day based on live model (not saved model)\n",
        "Last10Days = buildLastDaysArray(FullData[-1*TimeSteps:], DataScaler, NumSamples,TimeSteps, NumFeatures)\n",
        "# 6.1 Building predictions on data\n",
        "predicted_Price = regressor.predict(Last10Days)\n",
        "predicted_Price = DataScaler.inverse_transform(predicted_Price)\n",
        "print('Last day      =' + str(FullData[-1:]))\n",
        "print('Prediction    =' + str(predicted_Price))\n",
        "difference = (predicted_Price - FullData[-1:]) / FullData[-1:] *100\n",
        "print('Difference (%)=' + str(difference))"
      ],
      "metadata": {
        "colab": {
          "base_uri": "https://localhost:8080/"
        },
        "id": "SeeYtF33b7nS",
        "outputId": "716266b8-bb53-42e8-e774-9ca8519b5521"
      },
      "execution_count": 17,
      "outputs": [
        {
          "output_type": "stream",
          "name": "stdout",
          "text": [
            "Last day      =[[308.76001]]\n",
            "Prediction    =[[313.97186]]\n",
            "Difference (%)=[[1.68799476]]\n"
          ]
        }
      ]
    },
    {
      "cell_type": "code",
      "source": [
        "## -> To model\n",
        "# 6.2 Save the generated model to disk\n",
        "pickle.dump(regressor, open(saveModelLocation, 'wb'))\n",
        "print('model saved on ' + saveModelLocation)"
      ],
      "metadata": {
        "id": "LmT7ni84238i",
        "colab": {
          "base_uri": "https://localhost:8080/"
        },
        "outputId": "f50e199a-1452-4be2-e6d1-f7e23d6ef9e0"
      },
      "execution_count": 18,
      "outputs": [
        {
          "output_type": "stream",
          "name": "stderr",
          "text": [
            "WARNING:absl:Found untraced functions such as lstm_cell_layer_call_fn, lstm_cell_layer_call_and_return_conditional_losses, lstm_cell_1_layer_call_fn, lstm_cell_1_layer_call_and_return_conditional_losses, lstm_cell_2_layer_call_fn while saving (showing 5 of 15). These functions will not be directly callable after loading.\n"
          ]
        },
        {
          "output_type": "stream",
          "name": "stdout",
          "text": [
            "INFO:tensorflow:Assets written to: ram://61d62865-bf79-4d94-81d1-d4574a8b75fc/assets\n"
          ]
        },
        {
          "output_type": "stream",
          "name": "stderr",
          "text": [
            "INFO:tensorflow:Assets written to: ram://61d62865-bf79-4d94-81d1-d4574a8b75fc/assets\n",
            "WARNING:absl:<keras.layers.recurrent.LSTMCell object at 0x7fc9c3494d10> has the same name 'LSTMCell' as a built-in Keras object. Consider renaming <class 'keras.layers.recurrent.LSTMCell'> to avoid naming conflicts when loading with `tf.keras.models.load_model`. If renaming is not possible, pass the object in the `custom_objects` parameter of the load function.\n",
            "WARNING:absl:<keras.layers.recurrent.LSTMCell object at 0x7fc9bf320b50> has the same name 'LSTMCell' as a built-in Keras object. Consider renaming <class 'keras.layers.recurrent.LSTMCell'> to avoid naming conflicts when loading with `tf.keras.models.load_model`. If renaming is not possible, pass the object in the `custom_objects` parameter of the load function.\n",
            "WARNING:absl:<keras.layers.recurrent.LSTMCell object at 0x7fc9bf38f410> has the same name 'LSTMCell' as a built-in Keras object. Consider renaming <class 'keras.layers.recurrent.LSTMCell'> to avoid naming conflicts when loading with `tf.keras.models.load_model`. If renaming is not possible, pass the object in the `custom_objects` parameter of the load function.\n"
          ]
        },
        {
          "output_type": "stream",
          "name": "stdout",
          "text": [
            "model saved on /content/drive/MyDrive/public/DREAM/LSTM-on-MSFT-v1-model.sav\n"
          ]
        }
      ]
    },
    {
      "cell_type": "markdown",
      "source": [
        "## 10.- Analysis: Generate and save data to analyze results"
      ],
      "metadata": {
        "id": "15zMogt8T6LN"
      }
    },
    {
      "cell_type": "code",
      "source": [
        "### When = Only analysis, after modelling\n",
        "# 6.1 build difference dataframe\n",
        "resultsChange = FullDataOrig.reshape(-1) - FullDataPredictions\n",
        "resultsDF = pd.DataFrame({'Orig' : FullDataOrig.reshape(-1),\n",
        "                          'Pred' : FullDataPredictions.tolist(),\n",
        "                          'Date' : StockData.Date[TimeSteps:],\n",
        "                          'dif' : resultsChange})\n",
        "\n",
        "# I use the mean to define the threshold (this needs to be reviewed)\n",
        "resultsDF.insert(0,'realDif',resultsDF.Orig - resultsDF.Orig.shift(-1))\n",
        "resultsDF.insert(0,'predDif',resultsDF.Pred - resultsDF.Orig.shift(-1))\n",
        "resultsDF.to_csv(sURL + ticker + str(period2) + '.csv')\n",
        "print('File saved! on  = ' + sURL + ticker + str(period2) + '.csv')"
      ],
      "metadata": {
        "id": "hiaMq8mVPUKQ",
        "colab": {
          "base_uri": "https://localhost:8080/"
        },
        "outputId": "877fc744-58bb-4f3b-e0ed-6bc9d834524a"
      },
      "execution_count": 19,
      "outputs": [
        {
          "output_type": "stream",
          "name": "stdout",
          "text": [
            "File saved! on  = /content/drive/MyDrive/public/DREAM/MSFT1643759940.csv\n"
          ]
        }
      ]
    },
    {
      "cell_type": "markdown",
      "source": [
        "## 20.- Generate Next day result"
      ],
      "metadata": {
        "id": "grwB19O6ltJX"
      }
    },
    {
      "cell_type": "code",
      "source": [
        "## -> Forecast next day\n",
        "## When = Once model is stored, you can run it\n",
        "for sTicker in tickers:\n",
        "  # Load the model from disk\n",
        "  print('Starting ' + sTicker)\n",
        "  productionFile = sURL+'PROD/LSTM-on-'+sTicker+'-v1-model.sav'        # location of production model (different folder)\n",
        "  print('...Downloading model = ' + productionFile)\n",
        "  loaded_model = pickle.load(open(productionFile, 'rb'))\n",
        "  # Load data\n",
        "  FullData, StockData, DataScaler, X = initiateDataLoad(sTicker)\n",
        "  # Last X days prices where X = time_step\n",
        "  Last10Days = buildLastDaysArray(FullData[-1*TimeSteps:], DataScaler, NumSamples,TimeSteps, NumFeatures)\n",
        "  predicted_Price = loaded_model.predict(Last10Days)\n",
        "  predicted_Price = DataScaler.inverse_transform(predicted_Price)\n",
        "  print('Last day       =' + str(FullData[-1:]))\n",
        "  print('Prediction     =' + str(predicted_Price))\n",
        "  sDifference = (predicted_Price - FullData[-1:]) / FullData[-1:] *100\n",
        "  print('Difference (%) =' + str(sDifference))\n",
        "  print(sTicker + ' Completed')\n",
        "print('Forecast next day = Completed')"
      ],
      "metadata": {
        "colab": {
          "base_uri": "https://localhost:8080/"
        },
        "id": "Dj1E8I9W3kii",
        "outputId": "1585fc20-0125-4711-a869-59a5127d1cb6"
      },
      "execution_count": 20,
      "outputs": [
        {
          "output_type": "stream",
          "name": "stdout",
          "text": [
            "Starting MSFT\n",
            "...Downloading model = /content/drive/MyDrive/public/DREAM/PROD/LSTM-on-MSFT-v1-model.sav\n",
            "Last day       =[[308.76001]]\n",
            "Prediction     =[[313.97186]]\n",
            "Difference (%) =[[1.68799476]]\n",
            "MSFT Completed\n",
            "Starting GOOG\n",
            "...Downloading model = /content/drive/MyDrive/public/DREAM/PROD/LSTM-on-GOOG-v1-model.sav\n",
            "Last day       =[[2757.570068]]\n",
            "Prediction     =[[2782.2703]]\n",
            "Difference (%) =[[0.89572323]]\n",
            "GOOG Completed\n",
            "Starting AAPL\n",
            "...Downloading model = /content/drive/MyDrive/public/DREAM/PROD/LSTM-on-AAPL-v1-model.sav\n",
            "Last day       =[[174.610001]]\n",
            "Prediction     =[[170.44482]]\n",
            "Difference (%) =[[-2.38541708]]\n",
            "AAPL Completed\n",
            "Starting FB\n",
            "...Downloading model = /content/drive/MyDrive/public/DREAM/PROD/LSTM-on-FB-v1-model.sav\n",
            "WARNING:tensorflow:5 out of the last 290 calls to <function Model.make_predict_function.<locals>.predict_function at 0x7fc9bb77bdd0> triggered tf.function retracing. Tracing is expensive and the excessive number of tracings could be due to (1) creating @tf.function repeatedly in a loop, (2) passing tensors with different shapes, (3) passing Python objects instead of tensors. For (1), please define your @tf.function outside of the loop. For (2), @tf.function has experimental_relax_shapes=True option that relaxes argument shapes that can avoid unnecessary retracing. For (3), please refer to https://www.tensorflow.org/guide/function#controlling_retracing and https://www.tensorflow.org/api_docs/python/tf/function for  more details.\n"
          ]
        },
        {
          "output_type": "stream",
          "name": "stderr",
          "text": [
            "WARNING:tensorflow:5 out of the last 290 calls to <function Model.make_predict_function.<locals>.predict_function at 0x7fc9bb77bdd0> triggered tf.function retracing. Tracing is expensive and the excessive number of tracings could be due to (1) creating @tf.function repeatedly in a loop, (2) passing tensors with different shapes, (3) passing Python objects instead of tensors. For (1), please define your @tf.function outside of the loop. For (2), @tf.function has experimental_relax_shapes=True option that relaxes argument shapes that can avoid unnecessary retracing. For (3), please refer to https://www.tensorflow.org/guide/function#controlling_retracing and https://www.tensorflow.org/api_docs/python/tf/function for  more details.\n"
          ]
        },
        {
          "output_type": "stream",
          "name": "stdout",
          "text": [
            "Last day       =[[319.]]\n",
            "Prediction     =[[322.76947]]\n",
            "Difference (%) =[[1.1816521]]\n",
            "FB Completed\n",
            "Forecast next day = Completed\n"
          ]
        }
      ]
    }
  ]
}